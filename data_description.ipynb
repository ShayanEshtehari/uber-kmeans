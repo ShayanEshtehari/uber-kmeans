{
 "cells": [
  {
   "attachments": {},
   "cell_type": "markdown",
   "metadata": {},
   "source": [
    "# Initialization"
   ]
  },
  {
   "cell_type": "code",
   "execution_count": 1,
   "metadata": {},
   "outputs": [],
   "source": [
    "from pyspark.sql import SparkSession\n",
    "from pyspark.sql.types import DoubleType, IntegerType, StringType\n",
    "from pyspark.sql.types import StructType, StructField, TimestampType\n",
    "from pyspark.sql.functions import mean, col, desc, count, isnull, isnan, when, rank, sum\n",
    "import pandas as pd\n",
    "import matplotlib.pyplot as plt\n",
    "\n",
    "\n",
    "spark = SparkSession.builder \\\n",
    "    .appName(\"MyApp\") \\\n",
    "    .config(\"spark.driver.memory\", \"8g\") \\\n",
    "    .config(\"spark.executor.memory\", \"8g\") \\\n",
    "    .config(\"spark.ui.showConsoleProgress\", \"false\") \\\n",
    "    .getOrCreate()\n",
    "\n",
    "spark.sparkContext.setLogLevel(logLevel='ERROR')\n",
    "\n",
    "uber_file = \"uber-raw-data-aug14.csv\"\n",
    "\n",
    "# schema = StructType([\n",
    "#     StructField(\"Date/Time\", TimestampType(), True),\n",
    "#     StructField(\"Lat\", DoubleType(), True),\n",
    "#     StructField(\"Lon\", DoubleType(), True),\n",
    "#     StructField(\"Base\", StringType(), True)\n",
    "# ])\n",
    "\n",
    "uber = spark.read.format(\"csv\") \\\n",
    "    .option(\"header\", True) \\\n",
    "    .option(\"inferSchema\", True) \\\n",
    "    .load(uber_file)\n",
    "    # .option(\"inferSchema\", False) \\\n",
    "    # .schema(schema) \\\n",
    "\n"
   ]
  },
  {
   "attachments": {},
   "cell_type": "markdown",
   "metadata": {},
   "source": [
    "# Description"
   ]
  },
  {
   "attachments": {},
   "cell_type": "markdown",
   "metadata": {},
   "source": [
    "## Schema"
   ]
  },
  {
   "cell_type": "code",
   "execution_count": 2,
   "metadata": {},
   "outputs": [
    {
     "data": {
      "text/plain": [
       "[('Date/Time', 'string'),\n",
       " ('Lat', 'double'),\n",
       " ('Lon', 'double'),\n",
       " ('Base', 'string')]"
      ]
     },
     "metadata": {},
     "output_type": "display_data"
    },
    {
     "name": "stdout",
     "output_type": "stream",
     "text": [
      "root\n",
      " |-- Date/Time: string (nullable = true)\n",
      " |-- Lat: double (nullable = true)\n",
      " |-- Lon: double (nullable = true)\n",
      " |-- Base: string (nullable = true)\n",
      "\n",
      "StructType([StructField('Date/Time', StringType(), True), StructField('Lat', DoubleType(), True), StructField('Lon', DoubleType(), True), StructField('Base', StringType(), True)])\n"
     ]
    }
   ],
   "source": [
    "# from pyspark.sql.functions import unix_timestamp, to_timestamp\n",
    "\n",
    "# uber = uber.withColumn(\"Date/Time_epoch\", to_timestamp(unix_timestamp(col('Date/Time'))))\n",
    "numeric_columns = [column for column, type in uber.dtypes if type == 'double']\n",
    "string_columns = [column for column, type in uber.dtypes if type == 'string']\n",
    "\n",
    "display(uber.dtypes)\n",
    "uber.printSchema()\n",
    "print(uber.schema)\n"
   ]
  },
  {
   "attachments": {},
   "cell_type": "markdown",
   "metadata": {},
   "source": [
    "## Shape"
   ]
  },
  {
   "cell_type": "code",
   "execution_count": 3,
   "metadata": {},
   "outputs": [
    {
     "name": "stdout",
     "output_type": "stream",
     "text": [
      "Number of rows:  829275\n",
      "Number of columns:  4\n"
     ]
    }
   ],
   "source": [
    "rows_num = uber.count()\n",
    "cols_num = len(uber.columns)\n",
    "print(\"Number of rows: \", rows_num)\n",
    "print(\"Number of columns: \", cols_num)\n"
   ]
  },
  {
   "attachments": {},
   "cell_type": "markdown",
   "metadata": {},
   "source": [
    "## Head"
   ]
  },
  {
   "cell_type": "code",
   "execution_count": 4,
   "metadata": {},
   "outputs": [
    {
     "name": "stdout",
     "output_type": "stream",
     "text": [
      "+----------------+-------+--------+------+\n",
      "|       Date/Time|    Lat|     Lon|  Base|\n",
      "+----------------+-------+--------+------+\n",
      "|8/1/2014 0:03:00|40.7366|-73.9906|B02512|\n",
      "|8/1/2014 0:09:00| 40.726|-73.9918|B02512|\n",
      "|8/1/2014 0:12:00|40.7209|-74.0507|B02512|\n",
      "|8/1/2014 0:12:00|40.7387|-73.9856|B02512|\n",
      "|8/1/2014 0:12:00|40.7323|-74.0077|B02512|\n",
      "|8/1/2014 0:13:00|40.7349|-74.0033|B02512|\n",
      "|8/1/2014 0:15:00|40.7279|-73.9542|B02512|\n",
      "|8/1/2014 0:17:00| 40.721|-73.9937|B02512|\n",
      "|8/1/2014 0:19:00|40.7195| -74.006|B02512|\n",
      "|8/1/2014 0:20:00|40.7448|-73.9799|B02512|\n",
      "|8/1/2014 0:21:00|40.7399|-74.0057|B02512|\n",
      "|8/1/2014 0:25:00|40.7651|-73.9683|B02512|\n",
      "|8/1/2014 0:27:00|40.7354|-74.0081|B02512|\n",
      "|8/1/2014 0:29:00|40.7339|-74.0028|B02512|\n",
      "|8/1/2014 0:29:00|40.7364|-74.0301|B02512|\n",
      "|8/1/2014 0:29:00|40.7364|-74.0301|B02512|\n",
      "|8/1/2014 0:30:00|40.7252|-73.9516|B02512|\n",
      "|8/1/2014 0:30:00|40.7433| -73.986|B02512|\n",
      "|8/1/2014 0:34:00|40.7437|-73.9884|B02512|\n",
      "|8/1/2014 0:36:00|40.7406|-74.0077|B02512|\n",
      "+----------------+-------+--------+------+\n",
      "only showing top 20 rows\n",
      "\n"
     ]
    }
   ],
   "source": [
    "uber.show()\n"
   ]
  },
  {
   "attachments": {},
   "cell_type": "markdown",
   "metadata": {},
   "source": [
    "## Numerical description"
   ]
  },
  {
   "cell_type": "code",
   "execution_count": 5,
   "metadata": {},
   "outputs": [
    {
     "name": "stdout",
     "output_type": "stream",
     "text": [
      "+-------+--------------------+-------------------+\n",
      "|summary|                 Lat|                Lon|\n",
      "+-------+--------------------+-------------------+\n",
      "|  count|              829275|             829275|\n",
      "|   mean|  40.737780735823705|  -73.9701603131643|\n",
      "| stddev|0.043628060846870514|0.06148272834516594|\n",
      "|    min|             39.6569|           -74.7737|\n",
      "|    max|             41.3182|           -72.3359|\n",
      "+-------+--------------------+-------------------+\n",
      "\n"
     ]
    }
   ],
   "source": [
    "# uber.describe().show()\n",
    "uber.select(numeric_columns).describe().show()\n"
   ]
  },
  {
   "attachments": {},
   "cell_type": "markdown",
   "metadata": {},
   "source": [
    "## Distinct values"
   ]
  },
  {
   "cell_type": "code",
   "execution_count": 6,
   "metadata": {},
   "outputs": [
    {
     "name": "stdout",
     "output_type": "stream",
     "text": [
      "Number of distinct rows of column Date/Time is 44432\n",
      "+-----------------+\n",
      "|        Date/Time|\n",
      "+-----------------+\n",
      "|8/1/2014 11:36:00|\n",
      "|8/1/2014 13:42:00|\n",
      "|8/1/2014 21:42:00|\n",
      "| 8/2/2014 7:55:00|\n",
      "|8/2/2014 17:00:00|\n",
      "|8/2/2014 18:20:00|\n",
      "|8/2/2014 19:52:00|\n",
      "| 8/3/2014 0:34:00|\n",
      "|8/3/2014 10:57:00|\n",
      "|8/3/2014 15:43:00|\n",
      "|8/3/2014 20:55:00|\n",
      "|8/4/2014 11:22:00|\n",
      "|8/4/2014 13:05:00|\n",
      "|8/4/2014 15:44:00|\n",
      "|8/4/2014 20:29:00|\n",
      "|8/4/2014 22:31:00|\n",
      "|8/4/2014 22:45:00|\n",
      "| 8/5/2014 7:46:00|\n",
      "|8/5/2014 11:10:00|\n",
      "|8/6/2014 11:02:00|\n",
      "+-----------------+\n",
      "only showing top 20 rows\n",
      "\n",
      "Number of distinct rows of column Base is 5\n",
      "+------+\n",
      "|  Base|\n",
      "+------+\n",
      "|B02512|\n",
      "|B02598|\n",
      "|B02617|\n",
      "|B02682|\n",
      "|B02764|\n",
      "+------+\n",
      "\n"
     ]
    }
   ],
   "source": [
    "for column in string_columns:\n",
    "    print('Number of distinct rows of column %s is %d' % (column, uber.select(column).distinct().count()))\n",
    "    uber.select(column).distinct().show()\n"
   ]
  },
  {
   "attachments": {},
   "cell_type": "markdown",
   "metadata": {},
   "source": [
    "## 5 nums, mean, mode"
   ]
  },
  {
   "cell_type": "code",
   "execution_count": 7,
   "metadata": {},
   "outputs": [
    {
     "name": "stdout",
     "output_type": "stream",
     "text": [
      "Lat:\n",
      "mean: 40.737780735823705\n",
      "mode: 40.6448\n",
      "Minimum: 39.6569\n",
      "Q1: 40.7188\n",
      "Q2 (Median): 40.7405\n",
      "Q3: 40.7603\n",
      "Maximum: 41.3182\n",
      "IQR: 0.041499999999999204\n",
      "\n",
      "Lon:\n",
      "mean: -73.9701603131643\n",
      "mode: -73.9888\n",
      "Minimum: -74.7737\n",
      "Q1: -73.9959\n",
      "Q2 (Median): -73.9829\n",
      "Q3: -73.9618\n",
      "Maximum: -72.3359\n",
      "IQR: 0.034100000000009345\n",
      "\n"
     ]
    }
   ],
   "source": [
    "for column in numeric_columns:\n",
    "    mean_value = uber.select(mean(column)).collect()[0][0]\n",
    "    mode_value = uber.groupBy(column).count().sort(desc(\"count\")).select(col(column)).collect()[0][0]\n",
    "    \n",
    "    quantiles = uber.approxQuantile(column, [0.25, 0.5, 0.75], 0.01)\n",
    "    q1, median, q3 = quantiles[0], quantiles[1], quantiles[2]\n",
    "    iqr = q3 - q1\n",
    "\n",
    "    minimum = uber.selectExpr(f\"min({column})\").collect()[0][0]\n",
    "    maximum = uber.selectExpr(f\"max({column})\").collect()[0][0]\n",
    "    \n",
    "    print(f\"{column}:\")\n",
    "    print(f\"mean: {mean_value}\")\n",
    "    print(f\"mode: {mode_value}\")\n",
    "    print(f\"Minimum: {minimum}\")\n",
    "    print(f\"Q1: {q1}\")\n",
    "    print(f\"Q2 (Median): {median}\")\n",
    "    print(f\"Q3: {q3}\")\n",
    "    print(f\"Maximum: {maximum}\")\n",
    "    print(f\"IQR: {iqr}\")\n",
    "    print(\"\")\n"
   ]
  },
  {
   "attachments": {},
   "cell_type": "markdown",
   "metadata": {},
   "source": [
    "## Count per category"
   ]
  },
  {
   "cell_type": "code",
   "execution_count": 8,
   "metadata": {},
   "outputs": [
    {
     "data": {
      "text/html": [
       "<div>\n",
       "<style scoped>\n",
       "    .dataframe tbody tr th:only-of-type {\n",
       "        vertical-align: middle;\n",
       "    }\n",
       "\n",
       "    .dataframe tbody tr th {\n",
       "        vertical-align: top;\n",
       "    }\n",
       "\n",
       "    .dataframe thead th {\n",
       "        text-align: right;\n",
       "    }\n",
       "</style>\n",
       "<table border=\"1\" class=\"dataframe\">\n",
       "  <thead>\n",
       "    <tr style=\"text-align: right;\">\n",
       "      <th></th>\n",
       "      <th>Date/Time</th>\n",
       "      <th>count</th>\n",
       "    </tr>\n",
       "  </thead>\n",
       "  <tbody>\n",
       "    <tr>\n",
       "      <th>0</th>\n",
       "      <td>8/12/2014 18:35:00</td>\n",
       "      <td>74</td>\n",
       "    </tr>\n",
       "    <tr>\n",
       "      <th>1</th>\n",
       "      <td>8/12/2014 18:32:00</td>\n",
       "      <td>72</td>\n",
       "    </tr>\n",
       "    <tr>\n",
       "      <th>2</th>\n",
       "      <td>8/12/2014 18:38:00</td>\n",
       "      <td>70</td>\n",
       "    </tr>\n",
       "    <tr>\n",
       "      <th>3</th>\n",
       "      <td>8/12/2014 18:40:00</td>\n",
       "      <td>68</td>\n",
       "    </tr>\n",
       "    <tr>\n",
       "      <th>4</th>\n",
       "      <td>8/12/2014 18:27:00</td>\n",
       "      <td>68</td>\n",
       "    </tr>\n",
       "    <tr>\n",
       "      <th>...</th>\n",
       "      <td>...</td>\n",
       "      <td>...</td>\n",
       "    </tr>\n",
       "    <tr>\n",
       "      <th>44427</th>\n",
       "      <td>8/27/2014 2:08:00</td>\n",
       "      <td>1</td>\n",
       "    </tr>\n",
       "    <tr>\n",
       "      <th>44428</th>\n",
       "      <td>8/26/2014 2:32:00</td>\n",
       "      <td>1</td>\n",
       "    </tr>\n",
       "    <tr>\n",
       "      <th>44429</th>\n",
       "      <td>8/25/2014 1:39:00</td>\n",
       "      <td>1</td>\n",
       "    </tr>\n",
       "    <tr>\n",
       "      <th>44430</th>\n",
       "      <td>8/28/2014 2:25:00</td>\n",
       "      <td>1</td>\n",
       "    </tr>\n",
       "    <tr>\n",
       "      <th>44431</th>\n",
       "      <td>8/26/2014 4:48:00</td>\n",
       "      <td>1</td>\n",
       "    </tr>\n",
       "  </tbody>\n",
       "</table>\n",
       "<p>44432 rows × 2 columns</p>\n",
       "</div>"
      ],
      "text/plain": [
       "                Date/Time  count\n",
       "0      8/12/2014 18:35:00     74\n",
       "1      8/12/2014 18:32:00     72\n",
       "2      8/12/2014 18:38:00     70\n",
       "3      8/12/2014 18:40:00     68\n",
       "4      8/12/2014 18:27:00     68\n",
       "...                   ...    ...\n",
       "44427   8/27/2014 2:08:00      1\n",
       "44428   8/26/2014 2:32:00      1\n",
       "44429   8/25/2014 1:39:00      1\n",
       "44430   8/28/2014 2:25:00      1\n",
       "44431   8/26/2014 4:48:00      1\n",
       "\n",
       "[44432 rows x 2 columns]"
      ]
     },
     "metadata": {},
     "output_type": "display_data"
    },
    {
     "data": {
      "text/html": [
       "<div>\n",
       "<style scoped>\n",
       "    .dataframe tbody tr th:only-of-type {\n",
       "        vertical-align: middle;\n",
       "    }\n",
       "\n",
       "    .dataframe tbody tr th {\n",
       "        vertical-align: top;\n",
       "    }\n",
       "\n",
       "    .dataframe thead th {\n",
       "        text-align: right;\n",
       "    }\n",
       "</style>\n",
       "<table border=\"1\" class=\"dataframe\">\n",
       "  <thead>\n",
       "    <tr style=\"text-align: right;\">\n",
       "      <th></th>\n",
       "      <th>Base</th>\n",
       "      <th>count</th>\n",
       "    </tr>\n",
       "  </thead>\n",
       "  <tbody>\n",
       "    <tr>\n",
       "      <th>0</th>\n",
       "      <td>B02617</td>\n",
       "      <td>355803</td>\n",
       "    </tr>\n",
       "    <tr>\n",
       "      <th>1</th>\n",
       "      <td>B02598</td>\n",
       "      <td>220129</td>\n",
       "    </tr>\n",
       "    <tr>\n",
       "      <th>2</th>\n",
       "      <td>B02682</td>\n",
       "      <td>173280</td>\n",
       "    </tr>\n",
       "    <tr>\n",
       "      <th>3</th>\n",
       "      <td>B02764</td>\n",
       "      <td>48591</td>\n",
       "    </tr>\n",
       "    <tr>\n",
       "      <th>4</th>\n",
       "      <td>B02512</td>\n",
       "      <td>31472</td>\n",
       "    </tr>\n",
       "  </tbody>\n",
       "</table>\n",
       "</div>"
      ],
      "text/plain": [
       "     Base   count\n",
       "0  B02617  355803\n",
       "1  B02598  220129\n",
       "2  B02682  173280\n",
       "3  B02764   48591\n",
       "4  B02512   31472"
      ]
     },
     "metadata": {},
     "output_type": "display_data"
    }
   ],
   "source": [
    "for column in string_columns:\n",
    "    result = uber.groupBy(column).count().orderBy(\"count\", ascending=False)\n",
    "    display(result.toPandas())\n"
   ]
  },
  {
   "attachments": {},
   "cell_type": "markdown",
   "metadata": {},
   "source": [
    "## Missing values"
   ]
  },
  {
   "cell_type": "code",
   "execution_count": 9,
   "metadata": {},
   "outputs": [
    {
     "data": {
      "text/html": [
       "<div>\n",
       "<style scoped>\n",
       "    .dataframe tbody tr th:only-of-type {\n",
       "        vertical-align: middle;\n",
       "    }\n",
       "\n",
       "    .dataframe tbody tr th {\n",
       "        vertical-align: top;\n",
       "    }\n",
       "\n",
       "    .dataframe thead th {\n",
       "        text-align: right;\n",
       "    }\n",
       "</style>\n",
       "<table border=\"1\" class=\"dataframe\">\n",
       "  <thead>\n",
       "    <tr style=\"text-align: right;\">\n",
       "      <th></th>\n",
       "      <th>Null Count</th>\n",
       "    </tr>\n",
       "  </thead>\n",
       "  <tbody>\n",
       "    <tr>\n",
       "      <th>Date/Time</th>\n",
       "      <td>0</td>\n",
       "    </tr>\n",
       "    <tr>\n",
       "      <th>Lat</th>\n",
       "      <td>0</td>\n",
       "    </tr>\n",
       "    <tr>\n",
       "      <th>Lon</th>\n",
       "      <td>0</td>\n",
       "    </tr>\n",
       "    <tr>\n",
       "      <th>Base</th>\n",
       "      <td>0</td>\n",
       "    </tr>\n",
       "  </tbody>\n",
       "</table>\n",
       "</div>"
      ],
      "text/plain": [
       "           Null Count\n",
       "Date/Time           0\n",
       "Lat                 0\n",
       "Lon                 0\n",
       "Base                0"
      ]
     },
     "metadata": {},
     "output_type": "display_data"
    },
    {
     "data": {
      "text/html": [
       "<div>\n",
       "<style scoped>\n",
       "    .dataframe tbody tr th:only-of-type {\n",
       "        vertical-align: middle;\n",
       "    }\n",
       "\n",
       "    .dataframe tbody tr th {\n",
       "        vertical-align: top;\n",
       "    }\n",
       "\n",
       "    .dataframe thead th {\n",
       "        text-align: right;\n",
       "    }\n",
       "</style>\n",
       "<table border=\"1\" class=\"dataframe\">\n",
       "  <thead>\n",
       "    <tr style=\"text-align: right;\">\n",
       "      <th></th>\n",
       "      <th>Unknown Count</th>\n",
       "    </tr>\n",
       "  </thead>\n",
       "  <tbody>\n",
       "    <tr>\n",
       "      <th>Date/Time</th>\n",
       "      <td>0</td>\n",
       "    </tr>\n",
       "    <tr>\n",
       "      <th>Lat</th>\n",
       "      <td>0</td>\n",
       "    </tr>\n",
       "    <tr>\n",
       "      <th>Lon</th>\n",
       "      <td>0</td>\n",
       "    </tr>\n",
       "    <tr>\n",
       "      <th>Base</th>\n",
       "      <td>0</td>\n",
       "    </tr>\n",
       "  </tbody>\n",
       "</table>\n",
       "</div>"
      ],
      "text/plain": [
       "           Unknown Count\n",
       "Date/Time              0\n",
       "Lat                    0\n",
       "Lon                    0\n",
       "Base                   0"
      ]
     },
     "metadata": {},
     "output_type": "display_data"
    },
    {
     "data": {
      "text/html": [
       "<div>\n",
       "<style scoped>\n",
       "    .dataframe tbody tr th:only-of-type {\n",
       "        vertical-align: middle;\n",
       "    }\n",
       "\n",
       "    .dataframe tbody tr th {\n",
       "        vertical-align: top;\n",
       "    }\n",
       "\n",
       "    .dataframe thead th {\n",
       "        text-align: right;\n",
       "    }\n",
       "</style>\n",
       "<table border=\"1\" class=\"dataframe\">\n",
       "  <thead>\n",
       "    <tr style=\"text-align: right;\">\n",
       "      <th></th>\n",
       "      <th>0 Count</th>\n",
       "    </tr>\n",
       "  </thead>\n",
       "  <tbody>\n",
       "    <tr>\n",
       "      <th>Lat</th>\n",
       "      <td>0</td>\n",
       "    </tr>\n",
       "    <tr>\n",
       "      <th>Lon</th>\n",
       "      <td>0</td>\n",
       "    </tr>\n",
       "    <tr>\n",
       "      <th>Date/Time</th>\n",
       "      <td>0</td>\n",
       "    </tr>\n",
       "    <tr>\n",
       "      <th>Base</th>\n",
       "      <td>0</td>\n",
       "    </tr>\n",
       "  </tbody>\n",
       "</table>\n",
       "</div>"
      ],
      "text/plain": [
       "           0 Count\n",
       "Lat              0\n",
       "Lon              0\n",
       "Date/Time        0\n",
       "Base             0"
      ]
     },
     "metadata": {},
     "output_type": "display_data"
    },
    {
     "data": {
      "text/html": [
       "<div>\n",
       "<style scoped>\n",
       "    .dataframe tbody tr th:only-of-type {\n",
       "        vertical-align: middle;\n",
       "    }\n",
       "\n",
       "    .dataframe tbody tr th {\n",
       "        vertical-align: top;\n",
       "    }\n",
       "\n",
       "    .dataframe thead th {\n",
       "        text-align: right;\n",
       "    }\n",
       "</style>\n",
       "<table border=\"1\" class=\"dataframe\">\n",
       "  <thead>\n",
       "    <tr style=\"text-align: right;\">\n",
       "      <th></th>\n",
       "      <th>NaN Count</th>\n",
       "    </tr>\n",
       "  </thead>\n",
       "  <tbody>\n",
       "    <tr>\n",
       "      <th>Lat</th>\n",
       "      <td>0</td>\n",
       "    </tr>\n",
       "    <tr>\n",
       "      <th>Lon</th>\n",
       "      <td>0</td>\n",
       "    </tr>\n",
       "    <tr>\n",
       "      <th>Date/Time</th>\n",
       "      <td>0</td>\n",
       "    </tr>\n",
       "    <tr>\n",
       "      <th>Base</th>\n",
       "      <td>0</td>\n",
       "    </tr>\n",
       "  </tbody>\n",
       "</table>\n",
       "</div>"
      ],
      "text/plain": [
       "           NaN Count\n",
       "Lat                0\n",
       "Lon                0\n",
       "Date/Time          0\n",
       "Base               0"
      ]
     },
     "metadata": {},
     "output_type": "display_data"
    }
   ],
   "source": [
    "null_counts = uber.select([count(when(isnull(c), c)).alias(c) for c in uber.columns]).toPandas().T\n",
    "null_counts.columns = ['Null Count']\n",
    "display(null_counts)\n",
    "\n",
    "unk_counts = uber.select([count(when(uber[c].like('unknown'), c)).alias(c) for c in uber.columns]).toPandas().T\n",
    "unk_counts.columns = ['Unknown Count']\n",
    "display(unk_counts)\n",
    "\n",
    "zero_counts = uber.select([count(when(uber[c] == 0, c)).alias(c) for c in numeric_columns + string_columns]).toPandas().T\n",
    "zero_counts.columns = ['0 Count']\n",
    "display(zero_counts)\n",
    "\n",
    "nan_counts = uber.select([count(when(isnan(c), c)).alias(c) for c in numeric_columns + string_columns]).toPandas().T\n",
    "nan_counts.columns = ['NaN Count']\n",
    "display(nan_counts)\n"
   ]
  },
  {
   "attachments": {},
   "cell_type": "markdown",
   "metadata": {},
   "source": [
    "# Plots"
   ]
  },
  {
   "attachments": {},
   "cell_type": "markdown",
   "metadata": {},
   "source": [
    "## Correlation matrix"
   ]
  },
  {
   "cell_type": "code",
   "execution_count": 10,
   "metadata": {},
   "outputs": [
    {
     "data": {
      "image/png": "[encoded data removed]",
      "text/plain": [
       "<Figure size 432x288 with 2 Axes>"
      ]
     },
     "metadata": {
      "needs_background": "light"
     },
     "output_type": "display_data"
    }
   ],
   "source": [
    "def corr_mat(uber, numeric_columns, width, height):\n",
    "    from pyspark.mllib.stat import Statistics\n",
    "\n",
    "    numeric_df = uber.select(numeric_columns)\n",
    "    feature_vector = numeric_df.rdd.map(lambda row: row[0:])\n",
    "    corr_matrix = Statistics.corr(feature_vector, method=\"pearson\")\n",
    "\n",
    "    corr_matrix_df = pd.DataFrame(corr_matrix)\n",
    "    corr_matrix_df.index, corr_matrix_df.columns = numeric_columns, numeric_columns\n",
    "    # display(corr_matrix_df)\n",
    "\n",
    "    # Plotting\n",
    "    import seaborn as sns\n",
    "\n",
    "    plt.figure(figsize=(width, height))\n",
    "    sns.heatmap(corr_matrix_df, annot=True, cmap='coolwarm')\n",
    "    plt.title('Correlation Matrix', fontsize=20)\n",
    "    plt.show()\n",
    "\n",
    "corr_mat(uber, numeric_columns, 6, 4)\n"
   ]
  },
  {
   "attachments": {},
   "cell_type": "markdown",
   "metadata": {},
   "source": [
    "## Convert string to numerical"
   ]
  },
  {
   "cell_type": "code",
   "execution_count": 11,
   "metadata": {},
   "outputs": [
    {
     "name": "stdout",
     "output_type": "stream",
     "text": [
      "+-------+--------+---------------+----------+\n",
      "|    Lat|     Lon|Date/Time_index|Base_index|\n",
      "+-------+--------+---------------+----------+\n",
      "|40.7366|-73.9906|        20173.0|       4.0|\n",
      "| 40.726|-73.9918|        34403.0|       4.0|\n",
      "|40.7209|-74.0507|        25098.0|       4.0|\n",
      "|40.7387|-73.9856|        25098.0|       4.0|\n",
      "|40.7323|-74.0077|        25098.0|       4.0|\n",
      "|40.7349|-74.0033|        29513.0|       4.0|\n",
      "|40.7279|-73.9542|        20174.0|       4.0|\n",
      "| 40.721|-73.9937|        29515.0|       4.0|\n",
      "|40.7195| -74.006|        26643.0|       4.0|\n",
      "|40.7448|-73.9799|        29516.0|       4.0|\n",
      "|40.7399|-74.0057|        32031.0|       4.0|\n",
      "|40.7651|-73.9683|        29518.0|       4.0|\n",
      "|40.7354|-74.0081|        30819.0|       4.0|\n",
      "|40.7339|-74.0028|        20175.0|       4.0|\n",
      "|40.7364|-74.0301|        20175.0|       4.0|\n",
      "|40.7364|-74.0301|        20175.0|       4.0|\n",
      "|40.7252|-73.9516|        33228.0|       4.0|\n",
      "|40.7433| -73.986|        33228.0|       4.0|\n",
      "|40.7437|-73.9884|        26644.0|       4.0|\n",
      "|40.7406|-74.0077|        32034.0|       4.0|\n",
      "+-------+--------+---------------+----------+\n",
      "only showing top 20 rows\n",
      "\n"
     ]
    }
   ],
   "source": [
    "from pyspark.ml.feature import StringIndexer\n",
    "\n",
    "string_columns_index = [column + '_index' for column in string_columns]\n",
    "stringIndexer = StringIndexer().setInputCols(string_columns).setOutputCols(string_columns_index)\n",
    "string_indexer_model = stringIndexer.fit(uber)\n",
    "df = string_indexer_model.transform(uber)\n",
    "\n",
    "for column in string_columns:\n",
    "    df = df.drop(column)\n",
    "\n",
    "df.show()\n"
   ]
  },
  {
   "attachments": {},
   "cell_type": "markdown",
   "metadata": {},
   "source": [
    "## Correlation matrix with string indexes"
   ]
  },
  {
   "cell_type": "code",
   "execution_count": 12,
   "metadata": {},
   "outputs": [
    {
     "data": {
      "image/png": "[encoded data removed]",
      "text/plain": [
       "<Figure size 864x576 with 2 Axes>"
      ]
     },
     "metadata": {
      "needs_background": "light"
     },
     "output_type": "display_data"
    }
   ],
   "source": [
    "new_numeric_columns = numeric_columns + [column for column in df.columns if column.endswith('_index')]\n",
    "corr_mat(df, new_numeric_columns, 12, 8)\n"
   ]
  },
  {
   "attachments": {},
   "cell_type": "markdown",
   "metadata": {},
   "source": [
    "## Contingency table"
   ]
  },
  {
   "cell_type": "code",
   "execution_count": 13,
   "metadata": {},
   "outputs": [
    {
     "data": {
      "text/html": [
       "<div>\n",
       "<style scoped>\n",
       "    .dataframe tbody tr th:only-of-type {\n",
       "        vertical-align: middle;\n",
       "    }\n",
       "\n",
       "    .dataframe tbody tr th {\n",
       "        vertical-align: top;\n",
       "    }\n",
       "\n",
       "    .dataframe thead th {\n",
       "        text-align: right;\n",
       "    }\n",
       "</style>\n",
       "<table border=\"1\" class=\"dataframe\">\n",
       "  <thead>\n",
       "    <tr style=\"text-align: right;\">\n",
       "      <th></th>\n",
       "      <th>Date/Time_Base</th>\n",
       "      <th>B02512</th>\n",
       "      <th>B02598</th>\n",
       "      <th>B02617</th>\n",
       "      <th>B02682</th>\n",
       "      <th>B02764</th>\n",
       "    </tr>\n",
       "  </thead>\n",
       "  <tbody>\n",
       "    <tr>\n",
       "      <th>0</th>\n",
       "      <td>8/9/2014 22:00:00</td>\n",
       "      <td>2</td>\n",
       "      <td>7</td>\n",
       "      <td>13</td>\n",
       "      <td>5</td>\n",
       "      <td>1</td>\n",
       "    </tr>\n",
       "    <tr>\n",
       "      <th>1</th>\n",
       "      <td>8/19/2014 19:13:00</td>\n",
       "      <td>2</td>\n",
       "      <td>3</td>\n",
       "      <td>14</td>\n",
       "      <td>2</td>\n",
       "      <td>2</td>\n",
       "    </tr>\n",
       "    <tr>\n",
       "      <th>2</th>\n",
       "      <td>8/31/2014 17:53:00</td>\n",
       "      <td>0</td>\n",
       "      <td>8</td>\n",
       "      <td>14</td>\n",
       "      <td>3</td>\n",
       "      <td>1</td>\n",
       "    </tr>\n",
       "    <tr>\n",
       "      <th>3</th>\n",
       "      <td>8/27/2014 12:10:00</td>\n",
       "      <td>1</td>\n",
       "      <td>4</td>\n",
       "      <td>11</td>\n",
       "      <td>7</td>\n",
       "      <td>6</td>\n",
       "    </tr>\n",
       "    <tr>\n",
       "      <th>4</th>\n",
       "      <td>8/19/2014 10:29:00</td>\n",
       "      <td>0</td>\n",
       "      <td>12</td>\n",
       "      <td>14</td>\n",
       "      <td>7</td>\n",
       "      <td>3</td>\n",
       "    </tr>\n",
       "    <tr>\n",
       "      <th>...</th>\n",
       "      <td>...</td>\n",
       "      <td>...</td>\n",
       "      <td>...</td>\n",
       "      <td>...</td>\n",
       "      <td>...</td>\n",
       "      <td>...</td>\n",
       "    </tr>\n",
       "    <tr>\n",
       "      <th>44427</th>\n",
       "      <td>8/12/2014 9:44:00</td>\n",
       "      <td>1</td>\n",
       "      <td>5</td>\n",
       "      <td>8</td>\n",
       "      <td>6</td>\n",
       "      <td>2</td>\n",
       "    </tr>\n",
       "    <tr>\n",
       "      <th>44428</th>\n",
       "      <td>8/3/2014 19:20:00</td>\n",
       "      <td>2</td>\n",
       "      <td>7</td>\n",
       "      <td>9</td>\n",
       "      <td>4</td>\n",
       "      <td>0</td>\n",
       "    </tr>\n",
       "    <tr>\n",
       "      <th>44429</th>\n",
       "      <td>8/17/2014 13:22:00</td>\n",
       "      <td>1</td>\n",
       "      <td>4</td>\n",
       "      <td>7</td>\n",
       "      <td>1</td>\n",
       "      <td>0</td>\n",
       "    </tr>\n",
       "    <tr>\n",
       "      <th>44430</th>\n",
       "      <td>8/8/2014 2:03:00</td>\n",
       "      <td>0</td>\n",
       "      <td>1</td>\n",
       "      <td>3</td>\n",
       "      <td>0</td>\n",
       "      <td>0</td>\n",
       "    </tr>\n",
       "    <tr>\n",
       "      <th>44431</th>\n",
       "      <td>8/22/2014 14:53:00</td>\n",
       "      <td>3</td>\n",
       "      <td>3</td>\n",
       "      <td>16</td>\n",
       "      <td>8</td>\n",
       "      <td>1</td>\n",
       "    </tr>\n",
       "  </tbody>\n",
       "</table>\n",
       "<p>44432 rows × 6 columns</p>\n",
       "</div>"
      ],
      "text/plain": [
       "           Date/Time_Base  B02512  B02598  B02617  B02682  B02764\n",
       "0       8/9/2014 22:00:00       2       7      13       5       1\n",
       "1      8/19/2014 19:13:00       2       3      14       2       2\n",
       "2      8/31/2014 17:53:00       0       8      14       3       1\n",
       "3      8/27/2014 12:10:00       1       4      11       7       6\n",
       "4      8/19/2014 10:29:00       0      12      14       7       3\n",
       "...                   ...     ...     ...     ...     ...     ...\n",
       "44427   8/12/2014 9:44:00       1       5       8       6       2\n",
       "44428   8/3/2014 19:20:00       2       7       9       4       0\n",
       "44429  8/17/2014 13:22:00       1       4       7       1       0\n",
       "44430    8/8/2014 2:03:00       0       1       3       0       0\n",
       "44431  8/22/2014 14:53:00       3       3      16       8       1\n",
       "\n",
       "[44432 rows x 6 columns]"
      ]
     },
     "metadata": {},
     "output_type": "display_data"
    },
    {
     "data": {
      "text/html": [
       "<div>\n",
       "<style scoped>\n",
       "    .dataframe tbody tr th:only-of-type {\n",
       "        vertical-align: middle;\n",
       "    }\n",
       "\n",
       "    .dataframe tbody tr th {\n",
       "        vertical-align: top;\n",
       "    }\n",
       "\n",
       "    .dataframe thead th {\n",
       "        text-align: right;\n",
       "    }\n",
       "</style>\n",
       "<table border=\"1\" class=\"dataframe\">\n",
       "  <thead>\n",
       "    <tr style=\"text-align: right;\">\n",
       "      <th></th>\n",
       "      <th>Base_Base</th>\n",
       "      <th>B02512</th>\n",
       "      <th>B02598</th>\n",
       "      <th>B02617</th>\n",
       "      <th>B02682</th>\n",
       "      <th>B02764</th>\n",
       "    </tr>\n",
       "  </thead>\n",
       "  <tbody>\n",
       "    <tr>\n",
       "      <th>0</th>\n",
       "      <td>B02617</td>\n",
       "      <td>0</td>\n",
       "      <td>0</td>\n",
       "      <td>355803</td>\n",
       "      <td>0</td>\n",
       "      <td>0</td>\n",
       "    </tr>\n",
       "    <tr>\n",
       "      <th>1</th>\n",
       "      <td>B02764</td>\n",
       "      <td>0</td>\n",
       "      <td>0</td>\n",
       "      <td>0</td>\n",
       "      <td>0</td>\n",
       "      <td>48591</td>\n",
       "    </tr>\n",
       "    <tr>\n",
       "      <th>2</th>\n",
       "      <td>B02512</td>\n",
       "      <td>31472</td>\n",
       "      <td>0</td>\n",
       "      <td>0</td>\n",
       "      <td>0</td>\n",
       "      <td>0</td>\n",
       "    </tr>\n",
       "    <tr>\n",
       "      <th>3</th>\n",
       "      <td>B02598</td>\n",
       "      <td>0</td>\n",
       "      <td>220129</td>\n",
       "      <td>0</td>\n",
       "      <td>0</td>\n",
       "      <td>0</td>\n",
       "    </tr>\n",
       "    <tr>\n",
       "      <th>4</th>\n",
       "      <td>B02682</td>\n",
       "      <td>0</td>\n",
       "      <td>0</td>\n",
       "      <td>0</td>\n",
       "      <td>173280</td>\n",
       "      <td>0</td>\n",
       "    </tr>\n",
       "  </tbody>\n",
       "</table>\n",
       "</div>"
      ],
      "text/plain": [
       "  Base_Base  B02512  B02598  B02617  B02682  B02764\n",
       "0    B02617       0       0  355803       0       0\n",
       "1    B02764       0       0       0       0   48591\n",
       "2    B02512   31472       0       0       0       0\n",
       "3    B02598       0  220129       0       0       0\n",
       "4    B02682       0       0       0  173280       0"
      ]
     },
     "metadata": {},
     "output_type": "display_data"
    }
   ],
   "source": [
    "for column in string_columns:\n",
    "    contingency_table = uber.crosstab(column, 'Base')\n",
    "    display(contingency_table.toPandas())\n",
    "    "
   ]
  },
  {
   "attachments": {},
   "cell_type": "markdown",
   "metadata": {},
   "source": [
    "## KDE (Distribution), Histogram, Boxplot"
   ]
  },
  {
   "cell_type": "code",
   "execution_count": 14,
   "metadata": {},
   "outputs": [
    {
     "data": {
      "image/png": "[encoded data removed]",
      "text/plain": [
       "<Figure size 1382.4x345.6 with 3 Axes>"
      ]
     },
     "metadata": {
      "needs_background": "light"
     },
     "output_type": "display_data"
    },
    {
     "data": {
      "image/png": "[encoded data removed]",
      "text/plain": [
       "<Figure size 1382.4x345.6 with 3 Axes>"
      ]
     },
     "metadata": {
      "needs_background": "light"
     },
     "output_type": "display_data"
    }
   ],
   "source": [
    "def three_plots(uber):\n",
    "    for i, column in enumerate(numeric_columns):\n",
    "        fig, axs = plt.subplots(1, 3, figsize=(6.4*3, 4.8))\n",
    "        pdf = uber.select(column).toPandas()\n",
    "\n",
    "        mean_value = uber.select(mean(column)).collect()[0][0]\n",
    "        mode_value = uber.groupBy(column).count().sort(desc(\"count\")).select(col(column)).collect()[0][0]\n",
    "        median = uber.approxQuantile(column, [0.5], 0.01)[0]\n",
    "\n",
    "        axs[0].set_title(column + \" - Distribution plot\")\n",
    "        axs[0].axvline(median, color='green', label='Median', linestyle=':', linewidth=2)\n",
    "        axs[0].axvline(mode_value, color='red', label='Mode', linestyle='--')\n",
    "        axs[0].axvline(mean_value, color='blue', label='Mean', linestyle='-.')\n",
    "        axs[0].legend()\n",
    "        pdf.plot.kde(ax=axs[0])\n",
    "\n",
    "        axs[1].set_title(column + \" - Histogram plot\")\n",
    "        pdf.plot.hist(ax=axs[1])\n",
    "        \n",
    "        axs[2].set_title(column + \" - Boxplot\")\n",
    "        pdf.plot.box(ax=axs[2])\n",
    "\n",
    "        plt.show()\n",
    "\n",
    "three_plots(uber)\n"
   ]
  },
  {
   "attachments": {},
   "cell_type": "markdown",
   "metadata": {},
   "source": [
    "## Scatterplots"
   ]
  },
  {
   "cell_type": "code",
   "execution_count": 15,
   "metadata": {},
   "outputs": [
    {
     "data": {
      "image/png": "[encoded data removed]",
      "text/plain": [
       "<Figure size 432x288 with 1 Axes>"
      ]
     },
     "metadata": {
      "needs_background": "light"
     },
     "output_type": "display_data"
    }
   ],
   "source": [
    "pdf = uber.toPandas()\n",
    "pdf.plot.scatter(x='Lat', y='Lon')\n",
    "plt.title(f'Scatterplot of Lat vs Lon')\n",
    "plt.show()\n",
    "\n",
    "# pdf.plot.scatter(x='Lon', y='Lat')\n",
    "# plt.title(f'Scatterplot of Lon vs Lat')\n",
    "# plt.show()\n"
   ]
  }
 ],
 "metadata": {
  "kernelspec": {
   "display_name": "base",
   "language": "python",
   "name": "python3"
  },
  "language_info": {
   "codemirror_mode": {
    "name": "ipython",
    "version": 3
   },
   "file_extension": ".py",
   "mimetype": "text/x-python",
   "name": "python",
   "nbconvert_exporter": "python",
   "pygments_lexer": "ipython3",
   "version": "3.9.12"
  },
  "orig_nbformat": 4
 },
 "nbformat": 4,
 "nbformat_minor": 2
}
